{
 "cells": [
  {
   "cell_type": "markdown",
   "metadata": {},
   "source": [
    "# Contour Detection\n",
    "---"
   ]
  },
  {
   "cell_type": "markdown",
   "metadata": {},
   "source": [
    "## Set Up"
   ]
  },
  {
   "cell_type": "code",
   "execution_count": 2,
   "metadata": {},
   "outputs": [],
   "source": [
    "import cv2\n",
    "import numpy as np\n",
    "import matplotlib.pyplot as plt\n",
    "%matplotlib inline"
   ]
  },
  {
   "cell_type": "code",
   "execution_count": 4,
   "metadata": {},
   "outputs": [],
   "source": [
    "img = cv2.imread(\"../DATA/internal_external.png\", 0)"
   ]
  },
  {
   "cell_type": "markdown",
   "metadata": {},
   "source": [
    "## Contour Detection"
   ]
  },
  {
   "cell_type": "code",
   "execution_count": 5,
   "metadata": {},
   "outputs": [
    {
     "name": "stdout",
     "output_type": "stream",
     "text": [
      "<class 'list'> 22\n"
     ]
    }
   ],
   "source": [
    "image, contours, hierarchy = cv2.findContours(img, cv2.RETR_CCOMP, cv2.CHAIN_APPROX_SIMPLE)\n",
    "print(type(contours), len(contours))"
   ]
  },
  {
   "cell_type": "code",
   "execution_count": 15,
   "metadata": {},
   "outputs": [
    {
     "data": {
      "image/png": "[encoded data removed]",
      "text/plain": [
       "<Figure size 432x288 with 2 Axes>"
      ]
     },
     "metadata": {
      "needs_background": "light"
     },
     "output_type": "display_data"
    }
   ],
   "source": [
    "external_contours = np.zeros(image.shape)\n",
    "internal_contours = np.zeros(image.shape)\n",
    "for i in range(len(contours)):\n",
    "    if hierarchy[0][i][3] == -1: #External\n",
    "        cv2.drawContours(external_contours, contours, i, 255, -1)\n",
    "\n",
    "\n",
    "    if hierarchy[0][i][3] != -1: #Internal\n",
    "        cv2.drawContours(internal_contours, contours, i, 255, -1)\n",
    "\n",
    "\n",
    "plt.subplot(121)\n",
    "plt.imshow(external_contours, cmap=\"gray\")\n",
    "plt.title(\"external\")\n",
    "plt.subplot(122)\n",
    "plt.imshow(internal_contours, cmap=\"gray\")\n",
    "plt.title(\"internal\")\n",
    "plt.show()"
   ]
  }
 ],
 "metadata": {
  "interpreter": {
   "hash": "327d3e725e11d4aa3049d085bed8c11f76ea319e4b7dd031eb3f6323206383a0"
  },
  "kernelspec": {
   "display_name": "Python 3.6.6 64-bit ('python-cvcourse': conda)",
   "language": "python",
   "name": "python3"
  },
  "language_info": {
   "codemirror_mode": {
    "name": "ipython",
    "version": 3
   },
   "file_extension": ".py",
   "mimetype": "text/x-python",
   "name": "python",
   "nbconvert_exporter": "python",
   "pygments_lexer": "ipython3",
   "version": "3.6.6"
  },
  "orig_nbformat": 4
 },
 "nbformat": 4,
 "nbformat_minor": 2
}
