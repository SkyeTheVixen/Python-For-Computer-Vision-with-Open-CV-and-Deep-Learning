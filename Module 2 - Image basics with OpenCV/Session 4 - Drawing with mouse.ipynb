{
 "cells": [
  {
   "cell_type": "markdown",
   "metadata": {},
   "source": [
    "# Drawing with the mouse\n",
    "---"
   ]
  },
  {
   "cell_type": "markdown",
   "metadata": {},
   "source": [
    "## Open a window and allow the user to draw in it"
   ]
  },
  {
   "cell_type": "code",
   "execution_count": 2,
   "metadata": {},
   "outputs": [],
   "source": [
    "import cv2\n",
    "import numpy as np\n",
    "\n",
    "##############\n",
    "## FUNCTION ##\n",
    "##############\n",
    "\n",
    "def draw_circle(event, x, y, flags, param):\n",
    "    #if the mouse button is pressed down\n",
    "    if event == cv2.EVENT_LBUTTONDOWN:\n",
    "        cv2.circle(img, (x, y), 10, (0, 255, 0), -1)\n",
    "    elif event == cv2.EVENT_RBUTTONDOWN:\n",
    "        cv2.circle(img, (x, y), 10, (255, 0, 0), -1)\n",
    "    elif event == cv2.EVENT_MBUTTONDOWN:\n",
    "        cv2.circle(img, (x, y), 10, (0, 0, 255), -1)\n",
    "\n",
    "\n",
    "cv2.namedWindow(winname='My_Drawing')\n",
    "cv2.setMouseCallback('My_Drawing', draw_circle)\n",
    "\n",
    "\n",
    "\n",
    "############################\n",
    "## SHOWING IMAGE WITH CV2 ##\n",
    "############################\n",
    "\n",
    "#Generate blank image\n",
    "img = np.zeros((512,512,3), np.int8)\n",
    "\n",
    "#Create new window\n",
    "while True:\n",
    "    cv2.imshow('My_Drawing', img)\n",
    "    if cv2.waitKey(1) & 0xFF == 27:\n",
    "        break\n",
    "#End new window\n",
    "\n",
    "\n",
    "cv2.destroyAllWindows()"
   ]
  }
 ],
 "metadata": {
  "interpreter": {
   "hash": "327d3e725e11d4aa3049d085bed8c11f76ea319e4b7dd031eb3f6323206383a0"
  },
  "kernelspec": {
   "display_name": "Python 3.6.6 64-bit ('python-cvcourse': conda)",
   "language": "python",
   "name": "python3"
  },
  "language_info": {
   "codemirror_mode": {
    "name": "ipython",
    "version": 3
   },
   "file_extension": ".py",
   "mimetype": "text/x-python",
   "name": "python",
   "nbconvert_exporter": "python",
   "pygments_lexer": "ipython3",
   "version": "3.6.6"
  },
  "orig_nbformat": 4
 },
 "nbformat": 4,
 "nbformat_minor": 2
}
