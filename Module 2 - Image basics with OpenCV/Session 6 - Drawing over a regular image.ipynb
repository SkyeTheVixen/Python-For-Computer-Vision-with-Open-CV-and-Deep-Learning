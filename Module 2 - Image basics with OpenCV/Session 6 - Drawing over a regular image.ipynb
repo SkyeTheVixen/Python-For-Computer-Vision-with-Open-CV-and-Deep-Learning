{
 "cells": [
  {
   "cell_type": "markdown",
   "metadata": {},
   "source": [
    "# Drawing on an image\n",
    "---"
   ]
  },
  {
   "cell_type": "markdown",
   "metadata": {},
   "source": [
    "## Open an image and draw circles on it"
   ]
  },
  {
   "cell_type": "code",
   "execution_count": null,
   "metadata": {},
   "outputs": [],
   "source": [
    "import cv2\n",
    "import numpy as np\n",
    "\n",
    "\n",
    "\n",
    "# Function #\n",
    "def draw_Circle(event, x, y, flags, params):\n",
    "    if event == cv2.EVENT_LBUTTONDOWN:\n",
    "        cv2.circle(flippedimage, (x, y), 10, (0, 0, 255), 4)\n",
    "\n",
    "\n",
    "\n",
    "cv2.namedWindow(winname='Canvas')\n",
    "cv2.setMouseCallback('Canvas', draw_Circle)\n",
    "img = cv2.imread('../DATA/dog_backpack.jpg')\n",
    "fixed_image = cv2.cvtColor(img, cv2.COLOR_BGR2RGB)\n",
    "flippedimage = cv2.flip(fixed_image,-1)\n",
    "\n",
    "\n",
    "\n",
    "while True:\n",
    "    cv2.imshow('Canvas', flippedimage)\n",
    "    if cv2.waitKey(1) & 0xFF == 27:\n",
    "        break\n",
    "cv2.destroyAllWindows()"
   ]
  }
 ],
 "metadata": {
  "language_info": {
   "name": "python"
  },
  "orig_nbformat": 4
 },
 "nbformat": 4,
 "nbformat_minor": 2
}
