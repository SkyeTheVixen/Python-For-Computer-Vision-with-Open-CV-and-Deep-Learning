{
 "cells": [
  {
   "cell_type": "markdown",
   "metadata": {},
   "source": [
    "# Drawing with the mouse 2\n",
    "---"
   ]
  },
  {
   "cell_type": "markdown",
   "metadata": {},
   "source": [
    "### Draw a resizable rectangle"
   ]
  },
  {
   "cell_type": "code",
   "execution_count": 2,
   "metadata": {},
   "outputs": [],
   "source": [
    "import cv2\n",
    "import numpy as np\n",
    "\n",
    "\n",
    "\n",
    "# variables\n",
    "drawing = False  # True while down, false while up\n",
    "ix = -1\n",
    "iy = -1  #Tuple for easier defs\n",
    "\n",
    "\n",
    "\n",
    "# function\n",
    "def draw_rectangle(event, x, y, flags, params):\n",
    "    global ix, iy, drawing\n",
    "\n",
    "    if event == cv2.EVENT_LBUTTONDOWN:\n",
    "        drawing = True\n",
    "        ix = x\n",
    "        iy = y\n",
    "    elif event == cv2.EVENT_MOUSEMOVE:\n",
    "        if drawing == True:\n",
    "            cv2.rectangle(img, (ix, iy), (x, y), (0, 255, 0), -1)\n",
    "    elif event == cv2.EVENT_LBUTTONUP:\n",
    "        drawing = False\n",
    "        cv2.rectangle(img, (ix, iy), (x, y), (0, 255, 0), -1)\n",
    "\n",
    "\n",
    "\n",
    "cv2.namedWindow(winname='My_Drawing')\n",
    "cv2.setMouseCallback('My_Drawing', draw_rectangle)\n",
    "\n",
    "\n",
    "\n",
    "#Black image\n",
    "img = np.zeros((512, 512, 3))\n",
    "\n",
    "\n",
    "\n",
    "# Showing Image\n",
    "while True:\n",
    "    cv2.imshow('My_Drawing', img)\n",
    "    if cv2.waitKey(1) & 0xFF == 27:\n",
    "        break\n",
    "cv2.destroyAllWindows()"
   ]
  }
 ],
 "metadata": {
  "interpreter": {
   "hash": "327d3e725e11d4aa3049d085bed8c11f76ea319e4b7dd031eb3f6323206383a0"
  },
  "kernelspec": {
   "display_name": "Python 3.6.6 64-bit ('python-cvcourse': conda)",
   "language": "python",
   "name": "python3"
  },
  "language_info": {
   "codemirror_mode": {
    "name": "ipython",
    "version": 3
   },
   "file_extension": ".py",
   "mimetype": "text/x-python",
   "name": "python",
   "nbconvert_exporter": "python",
   "pygments_lexer": "ipython3",
   "version": "3.6.6"
  },
  "orig_nbformat": 4
 },
 "nbformat": 4,
 "nbformat_minor": 2
}
